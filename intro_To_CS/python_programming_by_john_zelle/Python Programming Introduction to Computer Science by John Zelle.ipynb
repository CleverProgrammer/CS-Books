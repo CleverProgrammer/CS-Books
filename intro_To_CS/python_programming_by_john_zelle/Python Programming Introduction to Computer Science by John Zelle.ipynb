{
 "cells": [
  {
   "cell_type": "markdown",
   "metadata": {},
   "source": [
    "# Chapter 3: Computing with Numbers"
   ]
  },
  {
   "cell_type": "markdown",
   "metadata": {},
   "source": [
    "###Change Counter Program"
   ]
  },
  {
   "cell_type": "code",
   "execution_count": 6,
   "metadata": {},
   "outputs": [
    {
     "name": "stdout",
     "output_type": "stream",
     "text": [
      "Change Counter\n",
      "\n",
      "Please enter the count of each coin type.\n",
      "Enter the number of quarters here: 2\n",
      "Enter the number of dime here: 5\n",
      "Enter the number of nickel here: 20\n",
      "Enter the number of cent here: 100\n",
      "You have $3.00 dollars\n"
     ]
    }
   ],
   "source": [
    "def main():\n",
    "    print (\"Change Counter\")\n",
    "    print ()\n",
    "    print (\"Please enter the count of each coin type.\")\n",
    "    quarters = eval(input(\"Enter the number of quarters here: \"))\n",
    "    dime = eval(input(\"Enter the number of dime here: \"))\n",
    "    nickel = eval(input(\"Enter the number of nickel here: \"))\n",
    "    cent = eval(input(\"Enter the number of cent here: \"))\n",
    "    print (\"You have $%1.2f dollars\" % (quarters*0.25 + dime * 0.10 + nickel * 0.05 + cent * 0.01))\n",
    "\n",
    "main ()"
   ]
  },
  {
   "cell_type": "code",
   "execution_count": 8,
   "metadata": {},
   "outputs": [],
   "source": [
    "import numpy as np\n",
    "import pandas as pd"
   ]
  },
  {
   "cell_type": "code",
   "execution_count": 13,
   "metadata": {},
   "outputs": [],
   "source": [
    "b3 = [0,0,0,0,1,1,1,1]\n",
    "b2 = [0,0,1,1,0,0,1,1]\n",
    "b1 = [0,1,0,1,0,1,0,1]"
   ]
  },
  {
   "cell_type": "code",
   "execution_count": 14,
   "metadata": {},
   "outputs": [],
   "source": [
    "bits_df = pd.DataFrame(b3)"
   ]
  },
  {
   "cell_type": "code",
   "execution_count": 16,
   "metadata": {},
   "outputs": [],
   "source": [
    "bits_df['bits 3'] = b3\n",
    "bits_df['bits 2'] = b2\n",
    "bits_df['bits 1'] = b1"
   ]
  },
  {
   "cell_type": "code",
   "execution_count": 23,
   "metadata": {},
   "outputs": [],
   "source": [
    "bits_df.drop(0, axis=1,inplace=True)"
   ]
  },
  {
   "cell_type": "code",
   "execution_count": 16,
   "metadata": {},
   "outputs": [
    {
     "name": "stdout",
     "output_type": "stream",
     "text": [
      "[2, 4, 8, 16, 32, 64]\n",
      "['power of 1', 'power of 2', 'power of 3', 'power of 4', 'power of 5', 'power of 6']\n"
     ]
    }
   ],
   "source": [
    "bits_y = []\n",
    "for i in range(1,7):\n",
    "    bits_y.append( 2 ** (i))\n",
    "print(bits_y)\n",
    "\n",
    "names_x = []\n",
    "for i in range(1,7):\n",
    "        names_x.append('power of ' + str(i))\n",
    "print(names_x)"
   ]
  },
  {
   "cell_type": "code",
   "execution_count": 32,
   "metadata": {},
   "outputs": [],
   "source": [
    "# Learn about API authentication here: https://plot.ly/python/getting-started\n",
    "# Find your api_key here: https://plot.ly/settings/api\n",
    "\n",
    "import plotly.plotly as py\n",
    "from plotly.graph_objs import *\n",
    "py.sign_in('RafehQazi', '78i8rjidza')\n",
    "data = Data([\n",
    "    Bar(\n",
    "        x= names_x,\n",
    "        y= bits_y,\n",
    "        name='y',\n",
    "        #text=['4.17 below the mean', '4.17 below the mean', '0.17 below the mean', '0.17 below the mean', '0.83 above the mean', '7.83 above the mean'],\n",
    "        marker=Marker(\n",
    "            color='rgb(142, 124, 195)'\n",
    "        ),\n",
    "        xsrc='RafehQazi:42:17fdfd',\n",
    "        ysrc='RafehQazi:42:43a0fd'\n",
    "    )\n",
    "])\n",
    "layout = Layout(\n",
    "    title='Having More Bits Doubles Values',\n",
    "    font=Font(\n",
    "        family='Raleway, sans-serif'\n",
    "    ),\n",
    "    showlegend=False,\n",
    "    xaxis=XAxis(\n",
    "        tickangle=-45\n",
    "    ),\n",
    "    yaxis=YAxis(\n",
    "        zeroline=False,\n",
    "        gridwidth=2\n",
    "    ),\n",
    "    bargap=0.05\n",
    ")\n",
    "fig = Figure(data=data, layout=layout)\n",
    "plot_url = py.plot(fig)"
   ]
  },
  {
   "cell_type": "markdown",
   "metadata": {},
   "source": [
    "<li>Addition of each new bit allows us to double our values. \n",
    "$$n = (2^n\\:different\\:values)$$"
   ]
  },
  {
   "cell_type": "code",
   "execution_count": 27,
   "metadata": {},
   "outputs": [
    {
     "data": {
      "text/html": [
       "<div>\n",
       "<table border=\"1\" class=\"dataframe\">\n",
       "  <thead>\n",
       "    <tr style=\"text-align: right;\">\n",
       "      <th></th>\n",
       "      <th>bits 3</th>\n",
       "      <th>bits 2</th>\n",
       "      <th>bits 1</th>\n",
       "    </tr>\n",
       "  </thead>\n",
       "  <tbody>\n",
       "    <tr>\n",
       "      <th>0</th>\n",
       "      <td>0</td>\n",
       "      <td>0</td>\n",
       "      <td>0</td>\n",
       "    </tr>\n",
       "    <tr>\n",
       "      <th>1</th>\n",
       "      <td>0</td>\n",
       "      <td>0</td>\n",
       "      <td>1</td>\n",
       "    </tr>\n",
       "    <tr>\n",
       "      <th>2</th>\n",
       "      <td>0</td>\n",
       "      <td>1</td>\n",
       "      <td>0</td>\n",
       "    </tr>\n",
       "    <tr>\n",
       "      <th>3</th>\n",
       "      <td>0</td>\n",
       "      <td>1</td>\n",
       "      <td>1</td>\n",
       "    </tr>\n",
       "    <tr>\n",
       "      <th>4</th>\n",
       "      <td>1</td>\n",
       "      <td>0</td>\n",
       "      <td>0</td>\n",
       "    </tr>\n",
       "    <tr>\n",
       "      <th>5</th>\n",
       "      <td>1</td>\n",
       "      <td>0</td>\n",
       "      <td>1</td>\n",
       "    </tr>\n",
       "    <tr>\n",
       "      <th>6</th>\n",
       "      <td>1</td>\n",
       "      <td>1</td>\n",
       "      <td>0</td>\n",
       "    </tr>\n",
       "    <tr>\n",
       "      <th>7</th>\n",
       "      <td>1</td>\n",
       "      <td>1</td>\n",
       "      <td>1</td>\n",
       "    </tr>\n",
       "  </tbody>\n",
       "</table>\n",
       "</div>"
      ]
     },
     "output_type": "execute_result",
     "metadata": {}
    }
   ],
   "source": [
    "bits_df"
   ]
  },
  {
   "cell_type": "markdown",
   "metadata": {},
   "source": [
    "<div>\n",
    "    <a href=\"https://plot.ly/~RafehQazi/65/\" target=\"_blank\" title=\"Having More Bits Doubles Values\" style=\"display: block; text-align: center;\"><img src=\"https://plot.ly/~RafehQazi/65.png\" alt=\"Having More Bits Doubles Values\" style=\"max-width: 100%;width: 600px;\"  width=\"600\" onerror=\"this.onerror=null;this.src='https://plot.ly/404.png';\" /></a>\n",
    "    <script data-plotly=\"RafehQazi:65\"  src=\"https://plot.ly/embed.js\" async></script>\n",
    "</div>\n"
   ]
  },
  {
   "cell_type": "code",
   "execution_count": null,
   "metadata": {},
   "outputs": [],
   "source": [
    ""
   ]
  }
 ],
 "metadata": {
  "kernelspec": {
   "display_name": "Python 3",
   "language": "python",
   "name": "python3"
  },
  "language_info": {
   "codemirror_mode": {
    "name": "ipython",
    "version": 3.0
   },
   "file_extension": ".py",
   "mimetype": "text/x-python",
   "name": "python",
   "nbconvert_exporter": "python",
   "pygments_lexer": "ipython3",
   "version": "3.4.3"
  }
 },
 "nbformat": 4,
 "nbformat_minor": 0
}