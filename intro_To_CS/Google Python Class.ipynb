{
 "cells": [
  {
   "cell_type": "markdown",
   "metadata": {},
   "source": [
    "#[Google Python Class](https://developers.google.com/edu/python/)"
   ]
  },
  {
   "cell_type": "code",
   "execution_count": 232,
   "metadata": {
    "collapsed": false
   },
   "outputs": [],
   "source": [
    "from IPython.display import YouTubeVideo, display"
   ]
  },
  {
   "cell_type": "code",
   "execution_count": 234,
   "metadata": {
    "collapsed": true
   },
   "outputs": [],
   "source": [
    "dict_files_vid = YouTubeVideo(\"haycL41dAhg\")\n",
    "reg_ex_vid = YouTubeVideo(\"kWyoYtvJpe4\")"
   ]
  },
  {
   "cell_type": "code",
   "execution_count": 235,
   "metadata": {
    "collapsed": false
   },
   "outputs": [
    {
     "data": {
      "text/html": [
       "\n",
       "        <iframe\n",
       "            width=\"400\"\n",
       "            height=\"300\"\n",
       "            src=\"https://www.youtube.com/embed/haycL41dAhg\"\n",
       "            frameborder=\"0\"\n",
       "            allowfullscreen\n",
       "        ></iframe>\n",
       "        "
      ],
      "text/plain": [
       "<IPython.lib.display.YouTubeVideo at 0x1070915c0>"
      ]
     },
     "metadata": {},
     "output_type": "display_data"
    }
   ],
   "source": [
    "display(dict_files_vid)"
   ]
  },
  {
   "cell_type": "markdown",
   "metadata": {},
   "source": [
    "# Notes: Useful String Methods"
   ]
  },
  {
   "cell_type": "markdown",
   "metadata": {},
   "source": [
    "<li>s.lower(), s.upper() -- returns the lowercase or uppercase version of the string\n",
    "\n",
    "<li>s.strip() -- returns a string with whitespace removed from the start and end\n",
    "\n",
    "<li>s.isalpha()/s.isdigit()/s.isspace()... -- tests if all the string chars are in the various character classes\n",
    "\n",
    "<li>s.startswith('other'), s.endswith('other') -- tests if the string starts or ends with the given other string\n",
    "\n",
    "<li>s.find('other') -- searches for the given other string (not a regular expression) within s, and returns the first index where it begins or -1 if not found\n",
    "\n",
    "<li>s.replace('old', 'new') -- returns a string where all occurrences of 'old' have been replaced by 'new'\n",
    "\n",
    "<li>s.split('delim') -- returns a list of substrings separated by the given delimiter. The delimiter is not a regular expression, it's just text. 'aaa,bbb,ccc'.split(',') -> ['aaa', 'bbb', 'ccc']. As a convenient special case s.split() (with no arguments) splits on all whitespace chars.\n",
    "\n",
    "<li>s.join(list) -- opposite of split(), joins the elements in the given list together using the string as the delimiter. e.g. '---'.join(['aaa', 'bbb', 'ccc']) -> aaa---bbb---ccc"
   ]
  },
  {
   "cell_type": "markdown",
   "metadata": {},
   "source": [
    "# Notes: Lists, Sorted, & Tuples"
   ]
  },
  {
   "cell_type": "markdown",
   "metadata": {},
   "source": [
    "<li> Use **sorted** instead of sort. (Doesn't mutate orig)\n",
    "\n"
   ]
  },
  {
   "cell_type": "code",
   "execution_count": 198,
   "metadata": {
    "collapsed": false
   },
   "outputs": [
    {
     "name": "stdout",
     "output_type": "stream",
     "text": [
      "Sorted: ['act', 'cat', 'dog', 'rats', 'star', 'stir'] \n",
      "Actual: ['cat', 'act', 'stir', 'rats', 'star', 'dog'] \n"
     ]
    }
   ],
   "source": [
    "a = ['cat', 'act', 'stir', 'rats', 'star', 'dog']\n",
    "print(\"Sorted: %s \" %sorted(a))\n",
    "print(\"Actual: %s \" %a)"
   ]
  },
  {
   "cell_type": "code",
   "execution_count": 209,
   "metadata": {
    "collapsed": false
   },
   "outputs": [
    {
     "data": {
      "text/plain": [
       "['star', 'dog', 'stir', 'cat', 'act', 'rats']"
      ]
     },
     "execution_count": 209,
     "metadata": {},
     "output_type": "execute_result"
    }
   ],
   "source": [
    "sorted(a, key = lambda e: e[2])"
   ]
  },
  {
   "cell_type": "markdown",
   "metadata": {},
   "source": [
    "<li> **help**(cmd) --> Give you help on built in fncs"
   ]
  },
  {
   "cell_type": "code",
   "execution_count": 80,
   "metadata": {
    "collapsed": false
   },
   "outputs": [
    {
     "name": "stdout",
     "output_type": "stream",
     "text": [
      "Help on built-in function sorted in module builtins:\n",
      "\n",
      "sorted(...)\n",
      "    sorted(iterable, key=None, reverse=False) --> new sorted list\n",
      "\n"
     ]
    }
   ],
   "source": [
    "help(sorted)"
   ]
  },
  {
   "cell_type": "markdown",
   "metadata": {},
   "source": [
    "### .join() vs For Loop\n",
    "    "
   ]
  },
  {
   "cell_type": "code",
   "execution_count": 81,
   "metadata": {
    "collapsed": false
   },
   "outputs": [
    {
     "name": "stdout",
     "output_type": "stream",
     "text": [
      "List: ['cat', 'act', 'stir', 'rats', 'star', 'dog']\n"
     ]
    }
   ],
   "source": [
    "print (\"List: %s\" %a)\n"
   ]
  },
  {
   "cell_type": "code",
   "execution_count": 82,
   "metadata": {
    "collapsed": false
   },
   "outputs": [
    {
     "name": "stdout",
     "output_type": "stream",
     "text": [
      "For Loop: cat act stir rats star dog \n",
      "\n",
      " VS \n",
      "\n",
      ".join(): cat act stir rats star dog\n"
     ]
    }
   ],
   "source": [
    "# For loop\n",
    "s = ''\n",
    "for i in a:\n",
    "    s += i + \" \"\n",
    "\n",
    "\n",
    "# .join() method\n",
    "q = ' '.join(a) # So much easier to write\n",
    "\n",
    "print (\"For Loop: %s\" %s)\n",
    "print()\n",
    "print (\" VS \")\n",
    "print()\n",
    "print (\".join(): %s\" %q) # EASIER TO WRITE!!"
   ]
  },
  {
   "cell_type": "markdown",
   "metadata": {},
   "source": [
    "<li> **Pro Tip**: '\\n'.join(x) # Line separator\n",
    "<li> **Pro Tip**: x.split('\\n') # Revert back to listForm"
   ]
  },
  {
   "cell_type": "code",
   "execution_count": 83,
   "metadata": {
    "collapsed": false
   },
   "outputs": [
    {
     "name": "stdout",
     "output_type": "stream",
     "text": [
      "Original: ['cat', 'act', 'stir', 'rats', 'star', 'dog']\n",
      "\n",
      "---------------------------------\n",
      "\n",
      "[DELIMETER].join(x)\n",
      "cat\n",
      "act\n",
      "stir\n",
      "rats\n",
      "star\n",
      "dog\n",
      "\n",
      "---------------------------------\n",
      "\n",
      "x.split([DELIMETER])\n",
      "['cat', 'act', 'stir', 'rats', 'star', 'dog']\n"
     ]
    }
   ],
   "source": [
    "print(\"Original: %s\" %a)\n",
    "print ('\\n---------------------------------\\n')\n",
    "\n",
    "print(\"[DELIMETER].join(x)\")\n",
    "x = '\\n'.join(a) # delimeter n\n",
    "print (x)\n",
    "\n",
    "print ('\\n---------------------------------\\n')\n",
    "\n",
    "print (\"x.split([DELIMETER])\")\n",
    "x = x.split('\\n') # revert the delimeter n\n",
    "print(x)"
   ]
  },
  {
   "cell_type": "code",
   "execution_count": 84,
   "metadata": {
    "collapsed": true
   },
   "outputs": [],
   "source": [
    "a = [(1, \"b\"), (2, \"a\"), (1, \"a\")]"
   ]
  },
  {
   "cell_type": "code",
   "execution_count": 85,
   "metadata": {
    "collapsed": false
   },
   "outputs": [
    {
     "data": {
      "text/plain": [
       "[(1, 'a'), (1, 'b'), (2, 'a')]"
      ]
     },
     "execution_count": 85,
     "metadata": {},
     "output_type": "execute_result"
    }
   ],
   "source": [
    "sorted(a)"
   ]
  },
  {
   "cell_type": "code",
   "execution_count": 86,
   "metadata": {
    "collapsed": false
   },
   "outputs": [
    {
     "data": {
      "text/plain": [
       "[[1, 'a'], [1, 'b'], [2, 'a']]"
      ]
     },
     "execution_count": 86,
     "metadata": {},
     "output_type": "execute_result"
    }
   ],
   "source": [
    "a = [[1, \"b\"], [2, \"a\"], [1, \"a\"]]\n",
    "sorted(a)"
   ]
  },
  {
   "cell_type": "code",
   "execution_count": 172,
   "metadata": {
    "collapsed": false
   },
   "outputs": [
    {
     "name": "stdout",
     "output_type": "stream",
     "text": [
      "['xyz', 'xanadu']\n",
      "original words: ['mix', 'xyz', 'apple', 'xanadu', 'aardvark']\n",
      "sorted: ['aardvark', 'apple', 'mix', 'xanadu', 'xyz']\n",
      "aardvark\n",
      "apple\n",
      "mix\n",
      "xanadu\n",
      "sorted x after pop: ['apple', 'mix', 'xanadu', 'xyz']\n",
      "\n",
      "Result: ['xyz', 'xanadu', 'apple', 'mix', 'xanadu', 'xyz']\n"
     ]
    }
   ],
   "source": [
    "# e.g. ['mix', 'xyz', 'apple', 'xanadu', 'aardvark'] yields\n",
    "# ['xanadu', 'xyz', 'aardvark', 'apple', 'mix']\n",
    "\n",
    "def front_x(words):\n",
    "    s = words[:] # neat trick to make a copy\n",
    "    q = 0\n",
    "    for i in words:\n",
    "        if i.startswith('x') == False:\n",
    "            s.pop(q)\n",
    "            q -= 1\n",
    "    \n",
    "    print (s)\n",
    "    print (\"original words: %s\" %words)\n",
    "    x = words[:] # neat trick to make a copy\n",
    "    x.sort()\n",
    "    print(\"sorted: %s\" %x)\n",
    "    q = 0\n",
    "    for i in x: \n",
    "        print (i)\n",
    "        if i.startswith('x'):\n",
    "            x.pop(q)\n",
    "            q -= 1\n",
    "    print (\"sorted x after pop: %s\" %x)\n",
    "    result = sorted(s) + sorted(x) # sorted list of x. Then sorted list by words.\n",
    "    return result\n",
    "\n",
    "l = ['mix', 'xyz', 'apple', 'xanadu', 'aardvark']\n",
    "print(\"\\nResult: %s\" % front_x(l))"
   ]
  },
  {
   "cell_type": "code",
   "execution_count": 128,
   "metadata": {
    "collapsed": false
   },
   "outputs": [
    {
     "name": "stdout",
     "output_type": "stream",
     "text": [
      "['mix', 'xyz', 'apple', 'xanadu', 'aardvark']\n",
      "0 mix\n",
      "-1 xyz\n",
      "-1 apple\n",
      "-2 xanadu\n",
      "-2 aardvark\n",
      "['xyz', 'xanadu']\n"
     ]
    }
   ],
   "source": [
    "words = ['mix', 'xyz', 'apple', 'xanadu', 'aardvark']\n",
    "s = words[:] # neat trick to make a copy\n",
    "print (s)\n",
    "q = 0\n",
    "for i in words:\n",
    "    print (q ,i)\n",
    "    if i.startswith('x') == False:\n",
    "        s.pop(q)\n",
    "        q-=1\n",
    "print(s)"
   ]
  },
  {
   "cell_type": "markdown",
   "metadata": {},
   "source": [
    "# 1. Problem Set: List1.py\n",
    "Copyright 2010 Google Inc.\n",
    "Licensed under the Apache License, Version 2.0\n",
    "http://www.apache.org/licenses/LICENSE-2.0\n",
    "\n",
    "Google's Python Class\n",
    "http://code.google.com/edu/languages/google-python-class/\n",
    "\n",
    "Basic list exercises\n",
    "Fill in the code for the functions below. main() is already set up\n",
    "to call the functions with a few different inputs,\n",
    "printing 'OK' when each function is correct.\n",
    "The starter code for each function includes a 'return'\n",
    "which is just a placeholder for your code.\n",
    "It's ok if you do not complete all the functions, and there\n",
    "are some additional functions to try in list2.py.\n",
    "\n",
    "**A. match_ends**\n",
    "\n",
    "Given a list of strings, return the count of the number of\n",
    "strings where the string length is 2 or more and the first\n",
    "and last chars of the string are the same.\n",
    "Note: python does not have a ++ operator, but += works."
   ]
  },
  {
   "cell_type": "code",
   "execution_count": 190,
   "metadata": {
    "collapsed": true
   },
   "outputs": [],
   "source": [
    "def match_ends(words):\n",
    "    count = 0\n",
    "    for i in words: # ['hello', 'boy', 'olelh']\n",
    "        if (len(i) >= 2) and (i[0] == i[-1]):\n",
    "            count += 1\n",
    "\n",
    "    return count"
   ]
  },
  {
   "cell_type": "markdown",
   "metadata": {},
   "source": [
    "**B. front_x**\n",
    "\n",
    "Given a list of strings, return a list with the strings\n",
    "in sorted order, except group all the strings that begin with 'x' first.\n",
    "e.g. ['mix', 'xyz', 'apple', 'xanadu', 'aardvark'] yields\n",
    "['xanadu', 'xyz', 'aardvark', 'apple', 'mix']\n",
    "Hint: this can be done by making 2 lists and sorting each of them\n",
    "before combining them.\n",
    "e.g. ['mix', 'xyz', 'apple', 'xanadu', 'aardvark'] yields\n",
    "answer should be ==> ['xanadu', 'xyz', 'aardvark', 'apple', 'mix']"
   ]
  },
  {
   "cell_type": "code",
   "execution_count": 183,
   "metadata": {
    "collapsed": true
   },
   "outputs": [],
   "source": [
    "def front_x(words):\n",
    "    x_list = []\n",
    "    other_list = []\n",
    "    for i in words:\n",
    "        if i.startswith('x'):\n",
    "            x_list.append(i)\n",
    "        else:\n",
    "            other_list.append(i)\n",
    "    \n",
    "    return sorted(x_list) + sorted(other_list)"
   ]
  },
  {
   "cell_type": "markdown",
   "metadata": {},
   "source": [
    "**C. sort_last**\n",
    "\n",
    "Given a list of non-empty tuples, return a list sorted in increasing\n",
    "order by the last element in each tuple.\n",
    "e.g. [(1, 7), (1, 3), (3, 4, 5), (2, 2)] yields\n",
    "[(2, 2), (1, 3), (3, 4, 5), (1, 7)]\n",
    "Hint: use a custom key= function to extract the last element form each tuple."
   ]
  },
  {
   "cell_type": "code",
   "execution_count": 184,
   "metadata": {
    "collapsed": false
   },
   "outputs": [],
   "source": [
    "def sort_last(tuples):\n",
    "    result = sorted(tuples, key = lambda e: e[1])\n",
    "    return result"
   ]
  },
  {
   "cell_type": "markdown",
   "metadata": {},
   "source": [
    "** RUNNING TESTS ON list1.py **"
   ]
  },
  {
   "cell_type": "code",
   "execution_count": 189,
   "metadata": {
    "collapsed": false
   },
   "outputs": [
    {
     "name": "stdout",
     "output_type": "stream",
     "text": [
      "match_ends\n",
      " OK  got: 3 expected: 3\n",
      " OK  got: 2 expected: 2\n",
      " OK  got: 1 expected: 1\n",
      "\n",
      "front_x\n",
      " OK  got: ['xaa', 'xzz', 'axx', 'bbb', 'ccc'] expected: ['xaa', 'xzz', 'axx', 'bbb', 'ccc']\n",
      " OK  got: ['xaa', 'xcc', 'aaa', 'bbb', 'ccc'] expected: ['xaa', 'xcc', 'aaa', 'bbb', 'ccc']\n",
      " OK  got: ['xanadu', 'xyz', 'aardvark', 'apple', 'mix'] expected: ['xanadu', 'xyz', 'aardvark', 'apple', 'mix']\n",
      "\n",
      "sort_last\n",
      " OK  got: [(2, 1), (3, 2), (1, 3)] expected: [(2, 1), (3, 2), (1, 3)]\n",
      " OK  got: [(3, 1), (1, 2), (2, 3)] expected: [(3, 1), (1, 2), (2, 3)]\n",
      " OK  got: [(2, 2), (1, 3), (3, 4, 5), (1, 7)] expected: [(2, 2), (1, 3), (3, 4, 5), (1, 7)]\n"
     ]
    }
   ],
   "source": [
    "# Simple provided test() function used in main() to print\n",
    "# what each function returns vs. what it's supposed to return.\n",
    "def test(got, expected):\n",
    "    if got == expected:\n",
    "        prefix = ' OK '\n",
    "    else:\n",
    "        prefix = '  X '\n",
    "    print ('%s got: %s expected: %s' % (prefix, repr(got), repr(expected)))\n",
    "\n",
    "\n",
    "def main():\n",
    "    print('match_ends')\n",
    "    test(match_ends(['aba', 'xyz', 'aa', 'x', 'bbb']), 3)\n",
    "    test(match_ends(['', 'x', 'xy', 'xyx', 'xx']), 2)\n",
    "    test(match_ends(['aaa', 'be', 'abc', 'hello']), 1)\n",
    "\n",
    "    print()\n",
    "    print('front_x')\n",
    "    test(front_x(['bbb', 'ccc', 'axx', 'xzz', 'xaa']),\n",
    "       ['xaa', 'xzz', 'axx', 'bbb', 'ccc'])\n",
    "    test(front_x(['ccc', 'bbb', 'aaa', 'xcc', 'xaa']),\n",
    "       ['xaa', 'xcc', 'aaa', 'bbb', 'ccc'])\n",
    "    test(front_x(['mix', 'xyz', 'apple', 'xanadu', 'aardvark']),\n",
    "       ['xanadu', 'xyz', 'aardvark', 'apple', 'mix'])\n",
    "\n",
    "       \n",
    "    print()\n",
    "    print('sort_last')\n",
    "    test(sort_last([(1, 3), (3, 2), (2, 1)]),\n",
    "       [(2, 1), (3, 2), (1, 3)])\n",
    "    test(sort_last([(2, 3), (1, 2), (3, 1)]),\n",
    "       [(3, 1), (1, 2), (2, 3)])\n",
    "    test(sort_last([(1, 7), (1, 3), (3, 4, 5), (2, 2)]),\n",
    "       [(2, 2), (1, 3), (3, 4, 5), (1, 7)])\n",
    "\n",
    "\n",
    "if __name__ == '__main__':\n",
    "    main()"
   ]
  },
  {
   "cell_type": "markdown",
   "metadata": {},
   "source": [
    "# 2. Problem Set: list2.py"
   ]
  },
  {
   "cell_type": "markdown",
   "metadata": {},
   "source": [
    "Additional basic list exercises <br>\n",
    "**d. remove_adjacent**\n",
    "\n",
    "Given a list of numbers, return a list where all adjacent == elements have been reduced to a single element, so [1, 2, 2, 3] returns [1, 2, 3]. You may create a new list or modify the passed in list.\n"
   ]
  },
  {
   "cell_type": "code",
   "execution_count": null,
   "metadata": {
    "collapsed": true
   },
   "outputs": [],
   "source": [
    "def remove_adjacent(nums):\n",
    "    return list(set(nums))"
   ]
  },
  {
   "cell_type": "markdown",
   "metadata": {},
   "source": [
    "**e. linear_merge** <br> \n",
    "Given two lists sorted in increasing order, create and return a merged\n",
    "list of all the elements in sorted order. You may modify the passed in lists.\n",
    "Ideally, the solution should work in \"linear\" time, making a single\n",
    "pass of both lists.\n"
   ]
  },
  {
   "cell_type": "code",
   "execution_count": null,
   "metadata": {
    "collapsed": true
   },
   "outputs": [],
   "source": [
    "def linear_merge(list1, list2):\n",
    "    return sorted(list1+list2)"
   ]
  },
  {
   "cell_type": "markdown",
   "metadata": {},
   "source": [
    "** RUNNING TESTS ON list2.py **"
   ]
  },
  {
   "cell_type": "code",
   "execution_count": 196,
   "metadata": {
    "collapsed": false
   },
   "outputs": [
    {
     "name": "stdout",
     "output_type": "stream",
     "text": [
      "remove_adjacent\n",
      " OK  got: [1, 2, 3] expected: [1, 2, 3]\n",
      " OK  got: [2, 3] expected: [2, 3]\n",
      " OK  got: [] expected: []\n",
      "\n",
      "linear_merge\n",
      " OK  got: ['aa', 'bb', 'cc', 'xx', 'zz'] expected: ['aa', 'bb', 'cc', 'xx', 'zz']\n",
      " OK  got: ['aa', 'bb', 'cc', 'xx', 'zz'] expected: ['aa', 'bb', 'cc', 'xx', 'zz']\n",
      " OK  got: ['aa', 'aa', 'aa', 'bb', 'bb'] expected: ['aa', 'aa', 'aa', 'bb', 'bb']\n"
     ]
    }
   ],
   "source": [
    "def test(got, expected):\n",
    "    if got == expected:\n",
    "        prefix = ' OK '\n",
    "    else:\n",
    "        prefix = '  X '\n",
    "    print('%s got: %s expected: %s' % (prefix, repr(got), repr(expected)))\n",
    "\n",
    "\n",
    "# Calls the above functions with interesting inputs.\n",
    "def main():\n",
    "    print('remove_adjacent')\n",
    "    test(remove_adjacent([1, 2, 2, 3]), [1, 2, 3])\n",
    "    test(remove_adjacent([2, 2, 3, 3, 3]), [2, 3])\n",
    "    test(remove_adjacent([]), [])\n",
    "\n",
    "    print()\n",
    "    print('linear_merge')\n",
    "    test(linear_merge(['aa', 'xx', 'zz'], ['bb', 'cc']),\n",
    "       ['aa', 'bb', 'cc', 'xx', 'zz'])\n",
    "    test(linear_merge(['aa', 'xx'], ['bb', 'cc', 'zz']),\n",
    "       ['aa', 'bb', 'cc', 'xx', 'zz'])\n",
    "    test(linear_merge(['aa', 'aa'], ['aa', 'bb', 'bb']),\n",
    "       ['aa', 'aa', 'aa', 'bb', 'bb'])\n",
    "\n",
    "\n",
    "if __name__ == '__main__':\n",
    "    main()\n"
   ]
  },
  {
   "cell_type": "markdown",
   "metadata": {},
   "source": [
    "# Notes: Regular Expressions "
   ]
  },
  {
   "cell_type": "code",
   "execution_count": 236,
   "metadata": {
    "collapsed": false
   },
   "outputs": [
    {
     "data": {
      "text/html": [
       "\n",
       "        <iframe\n",
       "            width=\"400\"\n",
       "            height=\"300\"\n",
       "            src=\"https://www.youtube.com/embed/kWyoYtvJpe4\"\n",
       "            frameborder=\"0\"\n",
       "            allowfullscreen\n",
       "        ></iframe>\n",
       "        "
      ],
      "text/plain": [
       "<IPython.lib.display.YouTubeVideo at 0x107091c50>"
      ]
     },
     "metadata": {},
     "output_type": "display_data"
    }
   ],
   "source": [
    "display(reg_ex_vid)"
   ]
  },
  {
   "cell_type": "markdown",
   "metadata": {
    "collapsed": true
   },
   "source": [
    "The power of regular expressions is that they can specify patterns, not just fixed characters. Here are the most basic patterns which match single chars:\n",
    "\n",
    "a, X, 9, < -- ordinary characters just match themselves exactly. The meta-characters which do not match themselves because they have special meanings are: . ^ $ * + ? { [ ] \\ | ( ) (details below)\n",
    "\n",
    "<li>**. (a period)** -- matches any single character except newline '\\n'\n",
    "<li>**\\w -- (lowercase w)** matches a \"word\" character: a letter or digit or underbar [a-zA-Z0-9_]. Note that although \"word\" is the mnemonic for this, it only matches a single word char, not a whole word. \\W (upper case W) matches any non-word character.\n",
    "<li>**\\b** -- boundary between word and non-word\n",
    "<li>**\\s -- (lowercase s)** matches a single whitespace character -- space, newline, return, tab, form [ \\n\\r\\t\\f]. \\S (upper case S) matches any non-whitespace character.\n",
    "<li>**\\t, \\n, \\r** -- tab, newline, return\n",
    "<li>**\\d** -- decimal digit [0-9] (some older regex utilities do not support but \\d, but they all support \\w and \\s)\n",
    "<li> ** ^ **= start, ** $ ** = end -- match the start or end of the string\n",
    "<li>**\\** -- inhibit the \"specialness\" of a character. So, for example, use \\. to match a period or \\\\ to match a slash.\n",
    "\n",
    "If you are unsure if a character has special meaning, such as '@', you can put a slash in front of it, \\@, to make sure it is treated just as a character."
   ]
  },
  {
   "cell_type": "code",
   "execution_count": 154,
   "metadata": {
    "collapsed": false
   },
   "outputs": [
    {
     "name": "stdout",
     "output_type": "stream",
     "text": [
      "[('alice', 'google.com'), ('bob', 'abc.com')]\n",
      "alice\n",
      "google.com\n",
      "bob\n",
      "abc.com\n"
     ]
    }
   ],
   "source": [
    "import re\n",
    "str = 'purple alice@google.com, blah monkey bob@abc.com blah dishwasher'\n",
    "tuples = re.findall(r'([\\w\\.-]+)@([\\w\\.-]+)', str)\n",
    "print (tuples)  ## [('alice', 'google.com'), ('bob', 'abc.com')]\n",
    "for tuple in tuples:\n",
    "    print(tuple[0])  ## username\n",
    "    print(tuple[1])  ## host"
   ]
  },
  {
   "cell_type": "code",
   "execution_count": 249,
   "metadata": {
    "collapsed": false
   },
   "outputs": [
    {
     "data": {
      "text/plain": [
       "['chess.qazi1@gmail.com', 'foo@bar']"
      ]
     },
     "execution_count": 249,
     "metadata": {},
     "output_type": "execute_result"
    }
   ],
   "source": [
    "re.findall(r'[\\w.]+@[\\w.]+', 'blah \\\n",
    "          chess.qazi1@gmail.com yatta foo@bar')"
   ]
  },
  {
   "cell_type": "markdown",
   "metadata": {
    "collapsed": true
   },
   "source": [
    "### Command by Command Breakdown:\n",
    "<li>r' specify raw string. \n",
    "<li>[] to add multiple directions. Also \".\" will be \".\"\n",
    "<li>\\w to get any word character (0-9) (a-z)\n",
    "<li>\".\" specifies \".\" since it's inside []\n",
    "<li> + means 1 or more occurrences of the pattern to it's left\n",
    "<li>@ looks specifically for \"@\"\n",
    "<li>[\\w.]+"
   ]
  },
  {
   "cell_type": "code",
   "execution_count": null,
   "metadata": {
    "collapsed": true
   },
   "outputs": [],
   "source": []
  }
 ],
 "metadata": {
  "kernelspec": {
   "display_name": "Python 3",
   "language": "python",
   "name": "python3"
  },
  "language_info": {
   "codemirror_mode": {
    "name": "ipython",
    "version": 3
   },
   "file_extension": ".py",
   "mimetype": "text/x-python",
   "name": "python",
   "nbconvert_exporter": "python",
   "pygments_lexer": "ipython3",
   "version": "3.4.3"
  }
 },
 "nbformat": 4,
 "nbformat_minor": 0
}
